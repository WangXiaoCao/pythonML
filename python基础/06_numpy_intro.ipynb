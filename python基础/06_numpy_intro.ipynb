{
 "cells": [
  {
   "cell_type": "markdown",
   "metadata": {},
   "source": [
    "# NumPy\n",
    "\n",
    "Numpy, 全称Numerical Python\n",
    "\n",
    "高性能科学计算和数据分析基础包"
   ]
  },
  {
   "cell_type": "markdown",
   "metadata": {},
   "source": [
    "* ndarray 多维数组\n",
    "\n",
    "注意numpy的ndarray与python自带的list是有区别的，打印出来之后，前者是用空格隔开的，后者是用逗号隔开的。"
   ]
  },
  {
   "cell_type": "code",
   "execution_count": 1,
   "metadata": {
    "collapsed": false
   },
   "outputs": [
    {
     "name": "stdout",
     "output_type": "stream",
     "text": [
      "[[ 0.63402125  0.44228225  0.48705288]\n",
      " [ 0.95954529  0.01158681  0.12972844]]\n",
      "<type 'numpy.ndarray'>\n"
     ]
    }
   ],
   "source": [
    "import numpy as np\n",
    "\n",
    "# 生成指定维度的随机多维数据\n",
    "data = np.random.rand(2, 3)\n",
    "print data\n",
    "print type(data)"
   ]
  },
  {
   "cell_type": "markdown",
   "metadata": {},
   "source": [
    "* ndim, shape 和 dtype 属性\n",
    "\n",
    "可以查看多维数组的维度的个数，各个维度的大小，以及数组中的数据类型。"
   ]
  },
  {
   "cell_type": "code",
   "execution_count": 2,
   "metadata": {
    "collapsed": false
   },
   "outputs": [
    {
     "name": "stdout",
     "output_type": "stream",
     "text": [
      "维度个数 2\n",
      "各维度大小:  (2L, 3L)\n",
      "数据类型:  float64\n"
     ]
    }
   ],
   "source": [
    "print '维度个数', data.ndim\n",
    "print '各维度大小: ', data.shape\n",
    "print '数据类型: ', data.dtype"
   ]
  },
  {
   "cell_type": "markdown",
   "metadata": {},
   "source": [
    "* 创建ndarray"
   ]
  },
  {
   "cell_type": "code",
   "execution_count": 3,
   "metadata": {
    "collapsed": false
   },
   "outputs": [
    {
     "name": "stdout",
     "output_type": "stream",
     "text": [
      "[0 1 2 3 4 5 6 7 8 9]\n",
      "(10L,)\n",
      "1\n"
     ]
    }
   ],
   "source": [
    "# list转换为 ndarray\n",
    "l = range(10)\n",
    "data = np.array(l)\n",
    "print data\n",
    "print data.shape\n",
    "print data.ndim"
   ]
  },
  {
   "cell_type": "code",
   "execution_count": 4,
   "metadata": {
    "collapsed": false
   },
   "outputs": [
    {
     "name": "stdout",
     "output_type": "stream",
     "text": [
      "[[0 1 2 3 4 5 6 7 8 9]\n",
      " [0 1 2 3 4 5 6 7 8 9]]\n",
      "(2L, 10L)\n"
     ]
    }
   ],
   "source": [
    "# 嵌套序列转换为ndarray\n",
    "l2 = [range(10), range(10)]\n",
    "data = np.array(l2)\n",
    "print data\n",
    "print data.shape"
   ]
  },
  {
   "cell_type": "code",
   "execution_count": 5,
   "metadata": {
    "collapsed": false
   },
   "outputs": [
    {
     "name": "stdout",
     "output_type": "stream",
     "text": [
      "[[ 0.  0.  0.  0.]\n",
      " [ 0.  0.  0.  0.]\n",
      " [ 0.  0.  0.  0.]]\n",
      "-------------\n",
      "[[ 1.  1.  1.]\n",
      " [ 1.  1.  1.]]\n",
      "-------------\n",
      "[[  4.24399158e-314   8.48798317e-314   1.27319747e-313]\n",
      " [  1.69759663e-313   2.12199580e-314   6.36598737e-314]\n",
      " [  1.06099790e-313   1.48539705e-313   1.90979621e-313]]\n",
      "-------------\n",
      "[[1 2 3]\n",
      " [4 5 6]\n",
      " [7 8 9]]\n"
     ]
    }
   ],
   "source": [
    "# np.zeros, np.ones 和 np.empty\n",
    "\n",
    "# np.zeros\n",
    "zeros_arr = np.zeros((3, 4))\n",
    "\n",
    "# np.ones\n",
    "ones_arr = np.ones((2, 3))\n",
    "\n",
    "# np.empty\n",
    "empty_arr = np.empty((3, 3))\n",
    "\n",
    "# np.empty 指定数据类型\n",
    "empty_int_arr = np.empty((3, 3), int)\n",
    "\n",
    "print zeros_arr\n",
    "print '-------------'\n",
    "print ones_arr\n",
    "print '-------------'\n",
    "print empty_arr\n",
    "print '-------------'\n",
    "print empty_int_arr"
   ]
  },
  {
   "cell_type": "code",
   "execution_count": 6,
   "metadata": {
    "collapsed": false
   },
   "outputs": [
    {
     "name": "stdout",
     "output_type": "stream",
     "text": [
      "[0 1 2 3 4 5 6 7 8 9]\n"
     ]
    }
   ],
   "source": [
    "# np.arange()\n",
    "print np.arange(10)"
   ]
  },
  {
   "cell_type": "markdown",
   "metadata": {},
   "source": [
    "* ndarray数据类型"
   ]
  },
  {
   "cell_type": "code",
   "execution_count": 7,
   "metadata": {
    "collapsed": false
   },
   "outputs": [
    {
     "name": "stdout",
     "output_type": "stream",
     "text": [
      "[[ 0.  0.  0.  0.]\n",
      " [ 0.  0.  0.  0.]\n",
      " [ 0.  0.  0.  0.]]\n",
      "float64\n"
     ]
    }
   ],
   "source": [
    "# 创建数组时可以直接指定数据类型，不指定的话就用默认的数据类型\n",
    "zeros_float_arr = np.zeros((3, 4), dtype=np.float64)\n",
    "print zeros_float_arr\n",
    "print zeros_float_arr.dtype"
   ]
  },
  {
   "cell_type": "code",
   "execution_count": 8,
   "metadata": {
    "collapsed": false
   },
   "outputs": [
    {
     "name": "stdout",
     "output_type": "stream",
     "text": [
      "[[0 0 0 0]\n",
      " [0 0 0 0]\n",
      " [0 0 0 0]]\n",
      "int32\n"
     ]
    }
   ],
   "source": [
    "# astype转换数据类型\n",
    "zeros_int_arr = zeros_float_arr.astype(np.int32)\n",
    "print zeros_int_arr\n",
    "print zeros_int_arr.dtype"
   ]
  },
  {
   "cell_type": "markdown",
   "metadata": {
    "collapsed": true
   },
   "source": [
    "* 矢量化 (vectorization)"
   ]
  },
  {
   "cell_type": "code",
   "execution_count": 9,
   "metadata": {
    "collapsed": false
   },
   "outputs": [
    {
     "name": "stdout",
     "output_type": "stream",
     "text": [
      "元素相乘：\n",
      "[[ 1  4  9]\n",
      " [16 25 36]]\n",
      "矩阵相加：\n",
      "[[ 2  4  6]\n",
      " [ 8 10 12]]\n"
     ]
    }
   ],
   "source": [
    "# 矢量与矢量运算\n",
    "arr = np.array([[1, 2, 3],\n",
    "                [4, 5, 6]])\n",
    "\n",
    "# 对应位置的元素直接相乘或相加\n",
    "print \"元素相乘：\"\n",
    "print arr * arr\n",
    "\n",
    "print \"矩阵相加：\"\n",
    "print arr + arr"
   ]
  },
  {
   "cell_type": "code",
   "execution_count": 10,
   "metadata": {
    "collapsed": false
   },
   "outputs": [
    {
     "name": "stdout",
     "output_type": "stream",
     "text": [
      "[[ 1.          0.5         0.33333333]\n",
      " [ 0.25        0.2         0.16666667]]\n",
      "[[  2.   4.   6.]\n",
      " [  8.  10.  12.]]\n"
     ]
    }
   ],
   "source": [
    "# 矢量与标量运算：对矢量中的每个元素都做相同的作用\n",
    "print 1. / arr\n",
    "print 2. * arr"
   ]
  },
  {
   "cell_type": "markdown",
   "metadata": {},
   "source": [
    "* 索引与切片"
   ]
  },
  {
   "cell_type": "code",
   "execution_count": 12,
   "metadata": {
    "collapsed": false
   },
   "outputs": [
    {
     "name": "stdout",
     "output_type": "stream",
     "text": [
      "[0 1 2 3 4 5 6 7 8 9]\n",
      "[2 3 4]\n"
     ]
    }
   ],
   "source": [
    "# 一维数组\n",
    "arr1 = np.arange(10)\n",
    "print arr1\n",
    "\n",
    "# 打印索引为2到4的\n",
    "print arr1[2:5]"
   ]
  },
  {
   "cell_type": "code",
   "execution_count": 13,
   "metadata": {
    "collapsed": false
   },
   "outputs": [
    {
     "name": "stdout",
     "output_type": "stream",
     "text": [
      "[[ 0  1  2  3]\n",
      " [ 4  5  6  7]\n",
      " [ 8  9 10 11]]\n"
     ]
    }
   ],
   "source": [
    "# 多维数组\n",
    "arr2 = np.arange(12).reshape(3,4)\n",
    "print arr2"
   ]
  },
  {
   "cell_type": "code",
   "execution_count": 14,
   "metadata": {
    "collapsed": false
   },
   "outputs": [
    {
     "name": "stdout",
     "output_type": "stream",
     "text": [
      "[4 5 6 7]\n",
      "[[2 3]\n",
      " [6 7]]\n",
      "[[ 1  2]\n",
      " [ 5  6]\n",
      " [ 9 10]]\n"
     ]
    }
   ],
   "source": [
    "print arr2[1] # 索引为1的整行\n",
    "\n",
    "print arr2[0:2, 2:]  # 行索引为0,1， 列索引为2,3\n",
    "\n",
    "print arr2[:, 1:3]  # 所有行，列索引为1,2"
   ]
  },
  {
   "cell_type": "code",
   "execution_count": 15,
   "metadata": {
    "collapsed": false
   },
   "outputs": [
    {
     "name": "stdout",
     "output_type": "stream",
     "text": [
      "[[ 0.84062025  0.68535538  0.82778413]\n",
      " [ 0.12221562  0.6983633   0.71440006]\n",
      " [ 0.9935824   0.32761404  0.54124812]]\n",
      "[ 0.12221562  0.71440006  0.54124812]\n"
     ]
    }
   ],
   "source": [
    "# 条件索引\n",
    "\n",
    "# 找出 data_arr 中 2015年后的数据\n",
    "data_arr = np.random.rand(3,3)\n",
    "print data_arr\n",
    "\n",
    "year_arr = np.array([[2000, 2001, 2000],\n",
    "                     [2005, 2002, 2009],\n",
    "                     [2001, 2003, 2010]])\n",
    "\n",
    "#is_year_after_2005 = year_arr >= 2005\n",
    "#print is_year_after_2005, is_year_after_2005.dtype\n",
    "\n",
    "#filtered_arr = data_arr[is_year_after_2005]\n",
    "\n",
    "filtered_arr = data_arr[year_arr >= 2005]\n",
    "print filtered_arr"
   ]
  },
  {
   "cell_type": "code",
   "execution_count": 16,
   "metadata": {
    "collapsed": false
   },
   "outputs": [
    {
     "name": "stdout",
     "output_type": "stream",
     "text": [
      "[ 0.84062025  0.82778413  0.6983633 ]\n"
     ]
    }
   ],
   "source": [
    "# 多个条件 用&或者|\n",
    "filtered_arr = data_arr[(year_arr <= 2005) & (year_arr % 2 == 0)]\n",
    "print filtered_arr"
   ]
  },
  {
   "cell_type": "markdown",
   "metadata": {},
   "source": [
    "* 转置"
   ]
  },
  {
   "cell_type": "code",
   "execution_count": 17,
   "metadata": {
    "collapsed": false
   },
   "outputs": [
    {
     "name": "stdout",
     "output_type": "stream",
     "text": [
      "[[ 0.78632412  0.34092099  0.47019284]\n",
      " [ 0.31253014  0.46419822  0.69889233]]\n",
      "[[ 0.78632412  0.31253014]\n",
      " [ 0.34092099  0.46419822]\n",
      " [ 0.47019284  0.69889233]]\n"
     ]
    }
   ],
   "source": [
    "arr = np.random.rand(2,3)\n",
    "print arr\n",
    "print arr.transpose()  # 转换成(3,2)"
   ]
  },
  {
   "cell_type": "code",
   "execution_count": 18,
   "metadata": {
    "collapsed": false
   },
   "outputs": [
    {
     "name": "stdout",
     "output_type": "stream",
     "text": [
      "[[[ 0.2964305   0.59441093  0.55023818  0.08411281]\n",
      "  [ 0.76549357  0.56797346  0.66275329  0.51559809]\n",
      "  [ 0.26321336  0.38191788  0.62142557  0.54272197]]\n",
      "\n",
      " [[ 0.17144369  0.95337459  0.11778474  0.88360171]\n",
      "  [ 0.22408532  0.30405268  0.80170414  0.51028941]\n",
      "  [ 0.1288004   0.55685466  0.86933542  0.18420452]]]\n",
      "----------------------\n",
      "[[[ 0.2964305   0.59441093  0.55023818  0.08411281]\n",
      "  [ 0.17144369  0.95337459  0.11778474  0.88360171]]\n",
      "\n",
      " [[ 0.76549357  0.56797346  0.66275329  0.51559809]\n",
      "  [ 0.22408532  0.30405268  0.80170414  0.51028941]]\n",
      "\n",
      " [[ 0.26321336  0.38191788  0.62142557  0.54272197]\n",
      "  [ 0.1288004   0.55685466  0.86933542  0.18420452]]]\n"
     ]
    }
   ],
   "source": [
    "arr3d = np.random.rand(2,3,4)\n",
    "print arr3d\n",
    "print '----------------------'\n",
    "print arr3d.transpose((1,0,2)) # 3x2x4 "
   ]
  },
  {
   "cell_type": "markdown",
   "metadata": {},
   "source": [
    "* 通用函数"
   ]
  },
  {
   "cell_type": "code",
   "execution_count": 21,
   "metadata": {
    "collapsed": false
   },
   "outputs": [
    {
     "name": "stdout",
     "output_type": "stream",
     "text": [
      "[[ 0.83585065 -0.98707548 -0.4449391 ]\n",
      " [ 0.32040632  1.75431013  1.67256645]]\n",
      "---\n",
      "[[ 1. -0. -0.]\n",
      " [ 1.  2.  2.]]\n",
      "---\n",
      "[[ 0. -1. -1.]\n",
      " [ 0.  1.  1.]]\n",
      "---\n",
      "[[ 1. -1.  0.]\n",
      " [ 0.  2.  2.]]\n",
      "---\n",
      "[[False False False]\n",
      " [False False False]]\n"
     ]
    }
   ],
   "source": [
    "arr = np.random.randn(2,3)\n",
    "\n",
    "print arr\n",
    "print '---'\n",
    "print np.ceil(arr)  # 向上取整\n",
    "print '---'\n",
    "print np.floor(arr)  # 向下取整\n",
    "print '---'\n",
    "print np.rint(arr)  # 四舍五入\n",
    "print '---'\n",
    "print np.isnan(arr) # 是否为空nan"
   ]
  },
  {
   "cell_type": "markdown",
   "metadata": {},
   "source": [
    "* np.where"
   ]
  },
  {
   "cell_type": "code",
   "execution_count": 22,
   "metadata": {
    "collapsed": false
   },
   "outputs": [
    {
     "name": "stdout",
     "output_type": "stream",
     "text": [
      "[[ 1.39574911  1.03859658  0.67221656 -1.30909762]\n",
      " [ 0.14281813 -0.66783622  1.88621754 -0.58328573]\n",
      " [ 0.18056602  1.50730263  0.83140404  0.25978389]]\n"
     ]
    },
    {
     "data": {
      "text/plain": [
       "array([[ 1,  1,  1, -1],\n",
       "       [ 1, -1,  1, -1],\n",
       "       [ 1,  1,  1,  1]])"
      ]
     },
     "execution_count": 22,
     "metadata": {},
     "output_type": "execute_result"
    }
   ],
   "source": [
    "arr = np.random.randn(3,4)\n",
    "print arr\n",
    "\n",
    "# 将大于0的元素全部转换成1，其他的为-1\n",
    "np.where(arr > 0, 1, -1)"
   ]
  },
  {
   "cell_type": "markdown",
   "metadata": {},
   "source": [
    "*  常用的统计方法"
   ]
  },
  {
   "cell_type": "code",
   "execution_count": 24,
   "metadata": {
    "collapsed": false
   },
   "outputs": [
    {
     "name": "stdout",
     "output_type": "stream",
     "text": [
      "[[0 1]\n",
      " [2 3]\n",
      " [4 5]\n",
      " [6 7]\n",
      " [8 9]]\n",
      "45\n",
      "[20 25]\n",
      "[ 1  5  9 13 17]\n"
     ]
    }
   ],
   "source": [
    "arr = np.arange(10).reshape(5,2)\n",
    "print arr\n",
    "\n",
    "# 对所有元素求和\n",
    "print np.sum(arr)\n",
    "# 对每列做求和\n",
    "print np.sum(arr, axis=0)\n",
    "# 对每行做求和\n",
    "print np.sum(arr, axis=1)"
   ]
  },
  {
   "cell_type": "markdown",
   "metadata": {},
   "source": [
    "* np.all 和 np.any\n",
    "\n",
    "np.all，全部满足条件则返回ture\n",
    "\n",
    "np.any，至少有一个元素满足条件则返回true"
   ]
  },
  {
   "cell_type": "code",
   "execution_count": 25,
   "metadata": {
    "collapsed": false
   },
   "outputs": [
    {
     "name": "stdout",
     "output_type": "stream",
     "text": [
      "[[-2.06668527  1.67369094 -0.92659177]\n",
      " [-1.46075779  0.58103732 -0.38010351]]\n",
      "True\n",
      "False\n"
     ]
    }
   ],
   "source": [
    "arr = np.random.randn(2,3)\n",
    "print arr\n",
    "\n",
    "print np.any(arr > 0)\n",
    "print np.all(arr > 0)"
   ]
  },
  {
   "cell_type": "markdown",
   "metadata": {},
   "source": [
    "* np.unique\n",
    "\n",
    "找到去重后的值并返回排序结果"
   ]
  },
  {
   "cell_type": "code",
   "execution_count": 26,
   "metadata": {
    "collapsed": false
   },
   "outputs": [
    {
     "name": "stdout",
     "output_type": "stream",
     "text": [
      "[[1 2 1]\n",
      " [2 3 4]]\n",
      "[1 2 3 4]\n"
     ]
    }
   ],
   "source": [
    "arr = np.array([[1, 2, 1], [2, 3, 4]])\n",
    "print arr\n",
    "print np.unique(arr)"
   ]
  },
  {
   "cell_type": "markdown",
   "metadata": {},
   "source": [
    "* 文本文件的读取"
   ]
  },
  {
   "cell_type": "code",
   "execution_count": 27,
   "metadata": {
    "collapsed": false
   },
   "outputs": [
    {
     "name": "stdout",
     "output_type": "stream",
     "text": [
      "[['cycle' 'type' 'matchup']\n",
      " ['2016' '\"polls-plus\"' '\"Clinton vs. Trump vs. Johnson\"']\n",
      " ['2016' '\"polls-plus\"' '\"Clinton vs. Trump vs. Johnson\"']\n",
      " ..., \n",
      " ['2016' '\"polls-only\"' '\"Clinton vs. Trump vs. Johnson\"']\n",
      " ['2016' '\"polls-only\"' '\"Clinton vs. Trump vs. Johnson\"']\n",
      " ['2016' '\"polls-only\"' '\"Clinton vs. Trump vs. Johnson\"']] (10237L, 3L)\n"
     ]
    }
   ],
   "source": [
    "# loadtxt\n",
    "filename = './presidential_polls.csv'\n",
    "data_array = np.loadtxt(filename,      # 文件名\n",
    "                        delimiter=',', # 分隔符\n",
    "                        dtype=str,     # 数据类型\n",
    "                        usecols=(0,2,3)) # 指定读取的列索引号\n",
    "print data_array, data_array.shape"
   ]
  },
  {
   "cell_type": "code",
   "execution_count": 28,
   "metadata": {
    "collapsed": false
   },
   "outputs": [
    {
     "name": "stdout",
     "output_type": "stream",
     "text": [
      "[(2016, '\"polls-plus\"', '\"Clinton vs. Trump vs. Johnson\"')\n",
      " (2016, '\"polls-plus\"', '\"Clinton vs. Trump vs. Johnson\"')\n",
      " (2016, '\"polls-plus\"', '\"Clinton vs. Trump vs. Johnson\"') ...,\n",
      " (2016, '\"polls-only\"', '\"Clinton vs. Trump vs. Johnson\"')\n",
      " (2016, '\"polls-only\"', '\"Clinton vs. Trump vs. Johnson\"')\n",
      " (2016, '\"polls-only\"', '\"Clinton vs. Trump vs. Johnson\"')] (10236L,)\n"
     ]
    }
   ],
   "source": [
    "# loadtxt, 明确指定每列数据的类型\n",
    "filename = './presidential_polls.csv'\n",
    "data_array = np.loadtxt(filename,      # 文件名\n",
    "                        delimiter=',', # 分隔符\n",
    "                        skiprows=1,\n",
    "                        dtype={'names':('cycle', 'type', 'matchup'),\n",
    "                               'formats':('i4', 'S15', 'S50')},     # 数据类型\n",
    "                        usecols=(0,2,3)) # 指定读取的列索引号\n",
    "\n",
    "print data_array, data_array.shape # 读取的结果是一维的数组，每个元素是一个元组"
   ]
  },
  {
   "cell_type": "markdown",
   "metadata": {},
   "source": [
    "比较以上两次读数据的结果，居然有所不同。\n",
    "\n",
    "第一次打印结果是以空格隔开的ndarray, 而第二次的时候却是逗号隔开的元组了。\n",
    "\n",
    "那是因为在第二次到时候指定了三个列的数据类型都是不同的。而numpy的ndarray要求数据类型都是一致的。所以后者默认为元组类型。"
   ]
  }
 ],
 "metadata": {
  "anaconda-cloud": {},
  "celltoolbar": "Raw Cell Format",
  "kernelspec": {
   "display_name": "Python [Root]",
   "language": "python",
   "name": "Python [Root]"
  },
  "language_info": {
   "codemirror_mode": {
    "name": "ipython",
    "version": 2
   },
   "file_extension": ".py",
   "mimetype": "text/x-python",
   "name": "python",
   "nbconvert_exporter": "python",
   "pygments_lexer": "ipython2",
   "version": "2.7.12"
  }
 },
 "nbformat": 4,
 "nbformat_minor": 1
}

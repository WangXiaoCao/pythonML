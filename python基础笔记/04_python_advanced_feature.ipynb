{
 "cells": [
  {
   "cell_type": "markdown",
   "metadata": {},
   "source": [
    "# 集合推导式"
   ]
  },
  {
   "cell_type": "markdown",
   "metadata": {},
   "source": [
    "* 列表推导式\n",
    "\n",
    "一下将普通方法与列表推导式进行比较，同样的循环次数，前者耗时866 µs per loop， 后者耗时692 µs per loop\n",
    "。很明显，列表推导式的效率更高。"
   ]
  },
  {
   "cell_type": "code",
   "execution_count": 1,
   "metadata": {
    "collapsed": false
   },
   "outputs": [
    {
     "name": "stdout",
     "output_type": "stream",
     "text": [
      "1000 loops, best of 3: 866 µs per loop\n"
     ]
    }
   ],
   "source": [
    "%%timeit\n",
    "#普通方法\n",
    "result1 = []\n",
    "for i in range(10000):\n",
    "    if i%2 == 0:\n",
    "        result1.append(i)"
   ]
  },
  {
   "cell_type": "code",
   "execution_count": 2,
   "metadata": {
    "collapsed": false
   },
   "outputs": [
    {
     "name": "stdout",
     "output_type": "stream",
     "text": [
      "The slowest run took 5.53 times longer than the fastest. This could mean that an intermediate result is being cached.\n",
      "1000 loops, best of 3: 692 µs per loop\n"
     ]
    }
   ],
   "source": [
    "%%timeit\n",
    "#列表推导式方法\n",
    "result2 = [i for i in range(10000) if i%2 == 0]"
   ]
  },
  {
   "cell_type": "code",
   "execution_count": 3,
   "metadata": {
    "collapsed": false
   },
   "outputs": [
    {
     "name": "stdout",
     "output_type": "stream",
     "text": [
      "['WELCOME', 'PYTHON', 'ANALYSIS', 'COURSE']\n"
     ]
    }
   ],
   "source": [
    "# 将长度大于4的字符串都转变成大写并返回新的列表\n",
    "str_lst = ['Welcome', 'to', 'Python', 'Data', 'Analysis', 'Course']\n",
    "result3 = [x.upper() for x in str_lst if len(x) > 4]\n",
    "print result3"
   ]
  },
  {
   "cell_type": "markdown",
   "metadata": {},
   "source": [
    "* 字典推导式"
   ]
  },
  {
   "cell_type": "code",
   "execution_count": 4,
   "metadata": {
    "collapsed": false
   },
   "outputs": [
    {
     "name": "stdout",
     "output_type": "stream",
     "text": [
      "{0: 9, 1: 8, 2: 7, 3: 6, 4: 5, 5: 4, 6: 3, 7: 2, 8: 1, 9: 0}\n"
     ]
    }
   ],
   "source": [
    "dict1 = {key : value for key, value in enumerate(reversed(range(10)))}\n",
    "print dict1"
   ]
  },
  {
   "cell_type": "markdown",
   "metadata": {},
   "source": [
    "* 集合推导式"
   ]
  },
  {
   "cell_type": "code",
   "execution_count": 5,
   "metadata": {
    "collapsed": false
   },
   "outputs": [
    {
     "name": "stdout",
     "output_type": "stream",
     "text": [
      "set([0, 1, 2, 3, 4, 5, 6, 7, 8, 9])\n"
     ]
    }
   ],
   "source": [
    "set1 = {i for i in range(10)}\n",
    "print set1"
   ]
  },
  {
   "cell_type": "markdown",
   "metadata": {},
   "source": [
    "* 嵌套推导式"
   ]
  },
  {
   "cell_type": "code",
   "execution_count": 6,
   "metadata": {
    "collapsed": false
   },
   "outputs": [
    {
     "name": "stdout",
     "output_type": "stream",
     "text": [
      "[[0, 1, 2, 3, 4, 5, 6, 7, 8, 9], [10, 11, 12, 13, 14, 15, 16, 17, 18, 19]]\n"
     ]
    }
   ],
   "source": [
    "lists = [range(10), range(10, 20)]\n",
    "print lists"
   ]
  },
  {
   "cell_type": "code",
   "execution_count": 7,
   "metadata": {
    "collapsed": false
   },
   "outputs": [
    {
     "name": "stdout",
     "output_type": "stream",
     "text": [
      "[0, 2, 4, 6, 8, 10, 12, 14, 16, 18]\n"
     ]
    }
   ],
   "source": [
    "evens = [item for lst in lists for item in lst if item % 2 == 0]\n",
    "print evens"
   ]
  },
  {
   "cell_type": "markdown",
   "metadata": {},
   "source": [
    "# 多函数模式\n",
    "\n",
    "可以将两个函数传递给一个新的函数。"
   ]
  },
  {
   "cell_type": "code",
   "execution_count": 8,
   "metadata": {
    "collapsed": false
   },
   "outputs": [
    {
     "name": "stdout",
     "output_type": "stream",
     "text": [
      "['1.123', '1123.454', '899.12312']\n"
     ]
    }
   ],
   "source": [
    "# 处理字符串\n",
    "str_lst = ['$1.123', ' $1123.454', '$899.12312']\n",
    "\n",
    "def remove_space(str):\n",
    "    \"\"\"\n",
    "        remove space\n",
    "    \"\"\"\n",
    "    str_no_space = str.replace(' ', '')\n",
    "    return str_no_space\n",
    "\n",
    "def remove_dollar(str):\n",
    "    \"\"\"\n",
    "        remove $\n",
    "    \"\"\"\n",
    "    if '$' in str:\n",
    "        return str.replace('$', '')\n",
    "    else:\n",
    "        return str\n",
    "\n",
    "def clean_str_lst(str_lst, operations):\n",
    "    \"\"\"\n",
    "        clean string list\n",
    "    \"\"\"\n",
    "    result = []\n",
    "    for item in str_lst:\n",
    "        for op in operations:\n",
    "            item = op(item)\n",
    "        result.append(item)\n",
    "    return result\n",
    "\n",
    "clean_operations = [remove_space, remove_dollar]\n",
    "result = clean_str_lst(str_lst, clean_operations)\n",
    "print result\n",
    "    "
   ]
  },
  {
   "cell_type": "markdown",
   "metadata": {},
   "source": [
    "# 匿名函数 lambda"
   ]
  },
  {
   "cell_type": "code",
   "execution_count": 36,
   "metadata": {
    "collapsed": false
   },
   "outputs": [
    {
     "data": {
      "text/plain": [
       "4"
      ]
     },
     "execution_count": 36,
     "metadata": {},
     "output_type": "execute_result"
    }
   ],
   "source": [
    "f = lambda x:x**2\n",
    "f(2)"
   ]
  },
  {
   "cell_type": "code",
   "execution_count": 42,
   "metadata": {
    "collapsed": false
   },
   "outputs": [
    {
     "name": "stdout",
     "output_type": "stream",
     "text": [
      "['to', 'Data', 'Python', 'Course', 'Welcome', 'Analysis']\n",
      "['Data', 'Course', 'Welcome', 'Python', 'to', 'Analysis']\n"
     ]
    }
   ],
   "source": [
    "str_lst = ['Welcome', 'to', 'Python', 'Data', 'Analysis', 'Course']\n",
    "str_lst.sort(key=lambda x:len(x)) # sort by length\n",
    "print str_lst\n",
    "\n",
    "str_lst.sort(key=lambda x:x[-1]) # sort by the last letter\n",
    "print str_lst"
   ]
  },
  {
   "cell_type": "markdown",
   "metadata": {},
   "source": [
    "# 生成器 generator"
   ]
  },
  {
   "cell_type": "code",
   "execution_count": 54,
   "metadata": {
    "collapsed": false
   },
   "outputs": [
    {
     "data": {
      "text/plain": [
       "generator"
      ]
     },
     "execution_count": 54,
     "metadata": {},
     "output_type": "execute_result"
    }
   ],
   "source": [
    "def gen_test():\n",
    "    for i in range(3):\n",
    "        yield i\n",
    "        \n",
    "gen = gen_test() #此时不执行生成器\n",
    "type(gen)"
   ]
  },
  {
   "cell_type": "code",
   "execution_count": 55,
   "metadata": {
    "collapsed": false
   },
   "outputs": [
    {
     "name": "stdout",
     "output_type": "stream",
     "text": [
      "0\n",
      "1\n",
      "2\n"
     ]
    }
   ],
   "source": [
    "for i in gen: # 直到迭代时才执行\n",
    "    print i"
   ]
  }
 ],
 "metadata": {
  "kernelspec": {
   "display_name": "Python [Root]",
   "language": "python",
   "name": "Python [Root]"
  },
  "language_info": {
   "codemirror_mode": {
    "name": "ipython",
    "version": 2
   },
   "file_extension": ".py",
   "mimetype": "text/x-python",
   "name": "python",
   "nbconvert_exporter": "python",
   "pygments_lexer": "ipython2",
   "version": "2.7.12"
  }
 },
 "nbformat": 4,
 "nbformat_minor": 1
}

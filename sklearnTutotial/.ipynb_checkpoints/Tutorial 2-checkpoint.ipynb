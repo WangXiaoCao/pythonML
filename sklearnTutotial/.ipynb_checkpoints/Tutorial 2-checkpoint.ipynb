{
 "cells": [
  {
   "cell_type": "markdown",
   "metadata": {},
   "source": [
    "# Tutorial 2\n",
    "\n",
    "在scilit-learn中所有有监督学习的估值器estimators都实现了一个fit(x,y)的接口，用来估计参数。\n",
    "\n",
    "也都有一个predict(x)的接口，用于根据估计出来的参数去做预测。\n",
    "\n",
    "有监督学习又可以分成分类与回归两类。\n",
    "\n",
    "如果是分类问题，那么标签y可以是整数的向量，或者字符串的向量。\n",
    "\n",
    "## 1. K邻近\n",
    "\n",
    "### 1.1 首先看看这个数据集的大致内容：\n",
    "\n",
    "数据集iris是一个分类的问题。它包含了3个不同的类别标签：Setosa, Versicolour, and Virginica\n"
   ]
  },
  {
   "cell_type": "code",
   "execution_count": 1,
   "metadata": {
    "collapsed": false
   },
   "outputs": [
    {
     "data": {
      "text/plain": [
       "array([0, 1, 2])"
      ]
     },
     "execution_count": 1,
     "metadata": {},
     "output_type": "execute_result"
    }
   ],
   "source": [
    "import numpy as np\n",
    "from sklearn import datasets\n",
    "\n",
    "# 导入数据集\n",
    "iris = datasets.load_iris()\n",
    "\n",
    "# 获取数据集的features\n",
    "x = iris.data\n",
    "\n",
    "# 获取数据集的labels\n",
    "y = iris.target\n",
    "\n",
    "# 获取有标签中的类别,有0,1,2共3类\n",
    "label = np.unique(y)\n",
    "label"
   ]
  },
  {
   "cell_type": "markdown",
   "metadata": {},
   "source": [
    "### 1.2 对iris数据集进行分割，产生训练集与测试集"
   ]
  },
  {
   "cell_type": "code",
   "execution_count": 3,
   "metadata": {
    "collapsed": false
   },
   "outputs": [
    {
     "data": {
      "text/plain": [
       "array([114,  62,  33, 107,   7, 100,  40,  86,  76,  71, 134,  51,  73,\n",
       "        54,  63,  37,  78,  90,  45,  16, 121,  66,  24,   8, 126,  22,\n",
       "        44,  97,  93,  26, 137,  84,  27, 127, 132,  59,  18,  83,  61,\n",
       "        92, 112,   2, 141,  43,  10,  60, 116, 144, 119, 108,  69, 135,\n",
       "        56,  80, 123, 133, 106, 146,  50, 147,  85,  30, 101,  94,  64,\n",
       "        89,  91, 125,  48,  13, 111,  95,  20,  15,  52,   3, 149,  98,\n",
       "         6,  68, 109,  96,  12, 102, 120, 104, 128,  46,  11, 110, 124,\n",
       "        41, 148,   1, 113, 139,  42,   4, 129,  17,  38,   5,  53, 143,\n",
       "       105,   0,  34,  28,  55,  75,  35,  23,  74,  31, 118,  57, 131,\n",
       "        65,  32, 138,  14, 122,  19,  29, 130,  49, 136,  99,  82,  79,\n",
       "       115, 145,  72,  77,  25,  81, 140, 142,  39,  58,  88,  70,  87,\n",
       "        36,  21,   9, 103,  67, 117,  47])"
      ]
     },
     "execution_count": 3,
     "metadata": {},
     "output_type": "execute_result"
    }
   ],
   "source": [
    "# 设置随机池\n",
    "np.random.seed(0)\n",
    "\n",
    "# 随机产生一组与样本长度一致的随机数\n",
    "indices = np.random.permutation(len(x))\n",
    "indices"
   ]
  },
  {
   "cell_type": "code",
   "execution_count": 5,
   "metadata": {
    "collapsed": false
   },
   "outputs": [],
   "source": [
    "# 分别对特征与标签分割训练集，测试集\n",
    "x_train = x[indices[:-10]]\n",
    "x_test = x[indices[-10:]]\n",
    "y_train = y[indices[:-10]]\n",
    "y_test = y[indices[-10:]]"
   ]
  },
  {
   "cell_type": "markdown",
   "metadata": {},
   "source": [
    "### 1.3 训练模型"
   ]
  },
  {
   "cell_type": "code",
   "execution_count": 10,
   "metadata": {
    "collapsed": false,
    "scrolled": true
   },
   "outputs": [
    {
     "name": "stdout",
     "output_type": "stream",
     "text": [
      "[1 2 1 0 0 0 2 1 2 0]\n",
      "[1 1 1 0 0 0 2 1 2 0]\n"
     ]
    }
   ],
   "source": [
    "from  sklearn.neighbors import KNeighborsClassifier\n",
    "\n",
    "# 创建模型\n",
    "knn = KNeighborsClassifier()\n",
    "\n",
    "# 训练模型\n",
    "knn.fit(x_train, y_train)\n",
    "\n",
    "# 预测测试集\n",
    "predict = knn.predict(x_test)\n",
    "predict\n",
    "y_test\n",
    "\n",
    "print(predict)\n",
    "print(y_test)\n"
   ]
  },
  {
   "cell_type": "markdown",
   "metadata": {},
   "source": [
    "## 2. 线性模型"
   ]
  },
  {
   "cell_type": "markdown",
   "metadata": {},
   "source": [
    "### 2.1 数据集\n",
    "\n",
    "使用diabetes数据集，其中有10个特征（年龄，性别，体重，血压等），有442个样本，y值是一年之后的疾病指标。"
   ]
  },
  {
   "cell_type": "code",
   "execution_count": 14,
   "metadata": {
    "collapsed": true
   },
   "outputs": [],
   "source": [
    "diabetes = datasets.load_diabetes()\n",
    "x_train = diabetes.data[:-20]\n",
    "x_test = diabetes.data[-20:]\n",
    "y_train = diabetes.target[:-20]\n",
    "y_test = diabetes.target[-20:]"
   ]
  },
  {
   "cell_type": "markdown",
   "metadata": {},
   "source": [
    "### 2.2 线性回归模型"
   ]
  },
  {
   "cell_type": "code",
   "execution_count": 15,
   "metadata": {
    "collapsed": false,
    "scrolled": false
   },
   "outputs": [
    {
     "name": "stdout",
     "output_type": "stream",
     "text": [
      "[  3.03499549e-01  -2.37639315e+02   5.10530605e+02   3.27736980e+02\n",
      "  -8.14131709e+02   4.92814588e+02   1.02848452e+02   1.84606489e+02\n",
      "   7.43519617e+02   7.60951722e+01]\n"
     ]
    }
   ],
   "source": [
    "from sklearn import linear_model\n",
    "\n",
    "# 创建模型\n",
    "regr = linear_model.LinearRegression()\n",
    "\n",
    "# 训练模型\n",
    "regr.fit(x_train, y_train)\n",
    "\n",
    "# 打印模型训练好后的系数\n",
    "print(regr.coef_)"
   ]
  },
  {
   "cell_type": "code",
   "execution_count": 18,
   "metadata": {
    "collapsed": false
   },
   "outputs": [
    {
     "name": "stdout",
     "output_type": "stream",
     "text": [
      "2004.56760269\n"
     ]
    }
   ],
   "source": [
    "# 获取均方误差\n",
    "cost = np.mean((regr.predict(x_test) - y_test)**2)\n",
    "print(cost)"
   ]
  },
  {
   "cell_type": "code",
   "execution_count": 20,
   "metadata": {
    "collapsed": false
   },
   "outputs": [
    {
     "name": "stdout",
     "output_type": "stream",
     "text": [
      "0.585075302269\n"
     ]
    }
   ],
   "source": [
    "# 获取Explained variance score 1 is perfect prediction\n",
    "# and 0 means that there is no linear relationship\n",
    "# between X and y.\n",
    "\n",
    "score = regr.score(x_test, y_test)\n",
    "print(score)"
   ]
  }
 ],
 "metadata": {
  "anaconda-cloud": {},
  "kernelspec": {
   "display_name": "Python [Root]",
   "language": "python",
   "name": "Python [Root]"
  },
  "language_info": {
   "codemirror_mode": {
    "name": "ipython",
    "version": 2
   },
   "file_extension": ".py",
   "mimetype": "text/x-python",
   "name": "python",
   "nbconvert_exporter": "python",
   "pygments_lexer": "ipython2",
   "version": "2.7.12"
  }
 },
 "nbformat": 4,
 "nbformat_minor": 0
}
